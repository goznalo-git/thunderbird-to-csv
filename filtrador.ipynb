{
 "cells": [
  {
   "cell_type": "markdown",
   "metadata": {},
   "source": [
    "# Clasificador de emails de Thunderbird a .csv\n",
    "\n",
    "## Objetivo\n",
    "Leer los mensajes diarios de `yum update` de las máquinas, y en base a eso crear una lista en un archivo .csv, con un \"ok\" si no ha habido problemas con la actualización o una x en caso de haberlos o no recibir correo.\n",
    "\n",
    "## Organización\n",
    "El programa va a tener dos partes claramente diferenciadas:\n",
    "1. Análisis de los mensajes\n",
    "2. Escritura del resultado en un archivo .csv\n",
    "\n",
    "Para más información, leer el README"
   ]
  },
  {
   "cell_type": "markdown",
   "metadata": {},
   "source": [
    "## 0. Preparación\n",
    "\n",
    "Para la tarea que tenemos entre manos necesitamos el módulo pyexcel. Pero hemos de definir los objetos correspondientes al problema entre manos, a saber: número de máquinas, lista con sus nombres (ordenada), lista inicializada con \"x\", y mensajes de no-error."
   ]
  },
  {
   "cell_type": "code",
   "execution_count": 10,
   "metadata": {},
   "outputs": [],
   "source": [
    "#Inputs (en línea de comandos en caso de script.py)\n",
    "sysargv1 = \"18\" #día\n",
    "sysargv2 = \"08\" #mes\n",
    "sysargv3 = \"--show\"\n",
    "\n",
    "num_to_month = {\"01\": \"Enero\", \"02\": \"Febrero\", \"03\": \"Marzo\", \"04\": \"Abril\", \"05\": \"Mayo\", \"06\": \"Junio\", \"07\": \"Julio\", \"08\": \"Agosto\", \"09\": \"Septiembre\", \"10\": \"Octubre\", \"11\": \"Noviembre\", \"12\": \"Diciembre\" }\n",
    "month = num_to_month[sysargv2]\n",
    "todaycolumn = int(sysargv1) #la columna es realmente la sysargv1 + 1 (la primera contiene los servidores). Pero como Python empieza en 0 las listas... "
   ]
  },
  {
   "cell_type": "code",
   "execution_count": 11,
   "metadata": {},
   "outputs": [],
   "source": [
    "okkeys = [\"No se han seleccionando paquetes para ser actualizados\",\"No packages marked for update\", \"¡Listo!\", \"Complete!\"] #el primer mensaje de error tiene una errata, sí."
   ]
  },
  {
   "cell_type": "code",
   "execution_count": 12,
   "metadata": {},
   "outputs": [],
   "source": [
    "import csv\n",
    "import pyexcel as pe"
   ]
  },
  {
   "cell_type": "code",
   "execution_count": 13,
   "metadata": {},
   "outputs": [],
   "source": [
    "xlsx_file = \"updates.ods\"\n",
    "sheet = pe.get_book(file_name=xlsx_file)[month]\n",
    "arrayeet = sheet.get_array()"
   ]
  },
  {
   "cell_type": "code",
   "execution_count": 14,
   "metadata": {},
   "outputs": [],
   "source": [
    "listservers = []\n",
    "for i in range(1,len(arrayeet)-3): #quitar las filas extra añadidas.\n",
    "    listservers.append(arrayeet[i][0].lower())\n",
    "\n",
    "numservers = len(listservers)\n",
    "okxlist = ['x'] * numservers\n",
    "\n",
    "#asegurarse de haber escogido bien los servidores:\n",
    "if not numservers == 677 or not listservers[0] == \"abedul.ccc.uam.es\" or not listservers[-1] == \"zeus.ccc.uam.es\":\n",
    "    raise ValueError('Algo ha salido mal... la lista de servidores no es correcta.')"
   ]
  },
  {
   "cell_type": "markdown",
   "metadata": {},
   "source": [
    "En la lista de máquinas, gran parte de ellas no se cuentan a la hora de revisar estos correos porque no los mandan por defecto. Esto puede deberse a que  estén de baja, que sean sondas o SAIs que no mandan mensajes, etc. Vamos a eliminarlos de la lista de \"x\""
   ]
  },
  {
   "cell_type": "code",
   "execution_count": 15,
   "metadata": {},
   "outputs": [],
   "source": [
    "nomsglist = []\n",
    "for i in range(1,len(arrayeet)-3):\n",
    "    nomsglist.append(False if not arrayeet[i][todaycolumn - 1] else True) #coger los espacios en blanco del día anterior\n",
    "\n",
    "numservers = len(listservers)\n",
    "okxlist = ['x'] * numservers\n",
    "\n",
    "okxlist =  [a * b for a, b in zip(okxlist,nomsglist)]"
   ]
  },
  {
   "cell_type": "markdown",
   "metadata": {},
   "source": [
    "# 1. Análisis de los mensajes\n",
    "\n",
    "Los mensajes se encuentran en un archivo (que Thunderbird considera un directorio de mensajes) dentro de un directorio local creado y usado por Thunderbird."
   ]
  },
  {
   "cell_type": "code",
   "execution_count": 16,
   "metadata": {},
   "outputs": [],
   "source": [
    "directorio = \"/home/goznalo/.thunderbird/ceesvdh2.default/Mail/fluor.ccc.uam-1.es/YUMtotal.sbd/\"\n",
    "archivo = sysargv1 + sysargv2 #modificar con el archivo pertinente, o \"prueba1\"\n",
    "\n",
    "path = directorio + archivo"
   ]
  },
  {
   "cell_type": "code",
   "execution_count": 17,
   "metadata": {},
   "outputs": [
    {
     "name": "stdout",
     "output_type": "stream",
     "text": [
      "/home/goznalo/.thunderbird/ceesvdh2.default/Mail/fluor.ccc.uam-1.es/YUMtotal.sbd/1808\n"
     ]
    }
   ],
   "source": [
    "print(path)"
   ]
  },
  {
   "cell_type": "markdown",
   "metadata": {},
   "source": [
    "Ahora abriremos el archivo (con codificación \"iso-8859-1\", como podemos ver al ejecutar en una shell `file -i archivo`), que contiene cada uno de los mensajes de esa carpeta, y los separaremos en elementos de una lista, para luego iterar sobre ellos. Para efectuar esta separación, hemos de darnos cuenta de que en cada archivo de mensajes del directorio, los mensajes empiezan con una línea como por ejemplo `From - Wed Jul 29 15:16:48 2020`. Por tanto usaremos como separador `From -`"
   ]
  },
  {
   "cell_type": "code",
   "execution_count": 18,
   "metadata": {},
   "outputs": [],
   "source": [
    "with open(path, 'r', encoding='iso-8859-1') as file3:\n",
    "    messages = file3.read().replace('\\n', '')\n",
    "\n",
    "messlist = messages.split(\"From -\")[1:]"
   ]
  },
  {
   "cell_type": "markdown",
   "metadata": {},
   "source": [
    "Ahora que tenemos los mensajes, hemos de obtener una lista con los remitentes de cada uno de ellos, a la vez que comprobamos si tienen errores o no."
   ]
  },
  {
   "cell_type": "code",
   "execution_count": 19,
   "metadata": {},
   "outputs": [],
   "source": [
    "errlist = []\n",
    "for mess in messlist:\n",
    "    sender = mess.split(\"<root@\")[1].split(\">Received:\")[0]\n",
    "    num = listservers.index(sender)\n",
    "    for oks in okkeys:\n",
    "        err = 0\n",
    "        if oks in mess:\n",
    "            okxlist[num] = \"ok\"\n",
    "            break\n",
    "        else:\n",
    "            err = 1\n",
    "    if err == 1:\n",
    "        errlist.append(sender)"
   ]
  },
  {
   "cell_type": "markdown",
   "metadata": {},
   "source": [
    "## 2. Escritura del csv y mostrar correos sospechosos\n",
    "\n",
    "Ya tenemos la lista con los datos que buscábamos. Ahora lo que hemos de hacer es convertirla en un archivo .csv, en formato columna."
   ]
  },
  {
   "cell_type": "code",
   "execution_count": 20,
   "metadata": {},
   "outputs": [],
   "source": [
    "with open(f'/home/goznalo/CCC/yum-thunderbird/returns{sysargv1 + sysargv2}.csv', 'w', newline='') as f:\n",
    "    writer = csv.writer(f)\n",
    "    for val in okxlist:\n",
    "        writer.writerow([val])"
   ]
  },
  {
   "cell_type": "markdown",
   "metadata": {},
   "source": [
    "Voilà"
   ]
  },
  {
   "cell_type": "code",
   "execution_count": 22,
   "metadata": {},
   "outputs": [
    {
     "name": "stdout",
     "output_type": "stream",
     "text": [
      "\u001b[1mCorreos a revisar:\u001b[0m\n",
      "\talgodor.ccc.uam.es\n",
      "\tbackupx.ccc.uam.es\n",
      "\tbecerril.ccc.uam.es\n",
      "\tbelvis25.ccc.uam.es\n",
      "\tbelvis28.ccc.uam.es\n",
      "\tbioinfo001.ccc.uam.es\n",
      "\tbioinfo003.ccc.uam.es\n",
      "\tcibeles01.ccc.uam.es\n",
      "\tcibeles12.ccc.uam.es\n",
      "\tcibeles15.ccc.uam.es\n",
      "\tcibeles16.ccc.uam.es\n",
      "\tcibeles2-008.ccc.uam.es\n",
      "\tcibeles2-015.ccc.uam.es\n",
      "\tcibeles2-030.ccc.uam.es\n",
      "\tcibeles2-034.ccc.uam.es\n",
      "\tcibeles2-036.ccc.uam.es\n",
      "\tcibeles2-061.ccc.uam.es\n",
      "\tcibeles2-079.ccc.uam.es\n",
      "\tcibeles2-093.ccc.uam.es\n",
      "\tcibeles2-107.ccc.uam.es\n",
      "\tcibeles2-124.ccc.uam.es\n",
      "\tcibeles2-146.ccc.uam.es\n",
      "\tcibeles2-159.ccc.uam.es\n",
      "\tcibeles2-161.ccc.uam.es\n",
      "\tcibeles2-164.ccc.uam.es\n",
      "\tcibeles2-168.ccc.uam.es\n",
      "\tcibeles2-172.ccc.uam.es\n",
      "\tcibeles2-178.ccc.uam.es\n",
      "\tcibeles2-185.ccc.uam.es\n",
      "\tcibeles2-186.ccc.uam.es\n",
      "\tcibeles2-188.ccc.uam.es\n",
      "\tcibeles2-189.ccc.uam.es\n",
      "\tcibeles2-194.ccc.uam.es\n",
      "\tcibeles2-202.ccc.uam.es\n",
      "\tcibeles2-204.ccc.uam.es\n",
      "\tcibeles2-205.ccc.uam.es\n",
      "\tcibeles2-208.ccc.uam.es\n",
      "\tcibeles2-233.ccc.uam.es\n",
      "\tcibeles2-236.ccc.uam.es\n",
      "\tcibeles2-242.ccc.uam.es\n",
      "\tcibeles2-300.ccc.uam.es\n",
      "\tcibeles2-301.ccc.uam.es\n",
      "\tcibeles2-303.ccc.uam.es\n",
      "\tcibeles2-305.ccc.uam.es\n",
      "\tcibeles2-307.ccc.uam.es\n",
      "\tcibeles2-308.ccc.uam.es\n",
      "\tcibeles2-309.ccc.uam.es\n",
      "\tcibeles2-310.ccc.uam.es\n",
      "\tcibeles2-311.ccc.uam.es\n",
      "\tcibeles2-312.ccc.uam.es\n",
      "\tcibeles2-315.ccc.uam.es\n",
      "\tcibeles2-316.ccc.uam.es\n",
      "\tcibeles2-318.ccc.uam.es\n",
      "\tcibeles2-320.ccc.uam.es\n",
      "\tcibeles20.ccc.uam.es\n",
      "\tcolmenarejo.ccc.uam.es\n",
      "\tcoslada.ccc.uam.es\n",
      "\tcotos.ccc.uam.es\n",
      "\tcubas.ccc.uam.es\n",
      "\tpaladio.ccc.uam.es\n",
      "\tpanoramix.ccc.uam.es\n",
      "\txchem70.ccc.uam.es\n"
     ]
    }
   ],
   "source": [
    "####Sacar por pantalla los correos a revisar\n",
    "errlist = list(sorted(dict.fromkeys(errlist)))\n",
    "print(\"\\033[1mCorreos a revisar:\\033[0m\")\n",
    "if len(errlist) < 10 or sysargv3 == \"--show\":\n",
    "    for err in errlist:\n",
    "        print(\"\\t\" + str(err))\n",
    "else:\n",
    "    print('Demasiados servidores por mostrar (' + str(len(errlist)) + '). Para verlos, repetir el comando con \"--show\" como tercer argumento')"
   ]
  },
  {
   "cell_type": "code",
   "execution_count": null,
   "metadata": {},
   "outputs": [],
   "source": []
  }
 ],
 "metadata": {
  "kernelspec": {
   "display_name": "Python 3",
   "language": "python",
   "name": "python3"
  },
  "language_info": {
   "codemirror_mode": {
    "name": "ipython",
    "version": 3
   },
   "file_extension": ".py",
   "mimetype": "text/x-python",
   "name": "python",
   "nbconvert_exporter": "python",
   "pygments_lexer": "ipython3",
   "version": "3.8.3"
  }
 },
 "nbformat": 4,
 "nbformat_minor": 4
}
