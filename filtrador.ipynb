{
 "cells": [
  {
   "cell_type": "markdown",
   "metadata": {},
   "source": [
    "# Clasificador de emails de Thunderbird a .csv\n",
    "\n",
    "## Objetivo\n",
    "Leer los mensajes diarios de `yum update` de las máquinas, y en base a eso crear una lista en un archivo .csv, con un \"ok\" si no ha habido problemas con la actualización o una x en caso de haberlos o no recibir correo.\n",
    "\n",
    "## Organización\n",
    "El programa va a tener dos partes claramente diferenciadas:\n",
    "1. Análisis de los mensajes\n",
    "2. Escritura del resultado en un archivo .csv\n",
    "\n",
    "Para más información, leer el README"
   ]
  },
  {
   "cell_type": "markdown",
   "metadata": {},
   "source": [
    "## 0. Preparación\n",
    "\n",
    "Vamos a cargar los módulos necesarios, y definir los objetos correspondientes al problema entre manos, a saber: número de máquinas, lista con sus nombres (ordenada), lista inicializada con \"x\", y mensajes de no-error."
   ]
  },
  {
   "cell_type": "code",
   "execution_count": 1,
   "metadata": {},
   "outputs": [],
   "source": [
    "import os"
   ]
  },
  {
   "cell_type": "code",
   "execution_count": 33,
   "metadata": {},
   "outputs": [
    {
     "name": "stdout",
     "output_type": "stream",
     "text": [
      "676\n"
     ]
    }
   ],
   "source": [
    "okkeys = [\"No se han seleccionado paquetes para ser actualizados\",\"No packages marked for update\", \"¡Listo!\", \"Completed!\"]\n",
    "with open(\"/home/goznalo/CCC/servernames.csv\", encoding='utf-8-sig') as file1: #modificar con el archivo pertinente\n",
    "    listservers =  [server.replace('\\n', '') for server in file1]\n",
    "numservers = len(listservers)\n",
    "okxlist = ['x'] * numservers\n",
    "\n",
    "print(numservers)"
   ]
  },
  {
   "cell_type": "markdown",
   "metadata": {},
   "source": [
    "# 1. Análisis de los mensajes\n",
    "\n",
    "Los mensajes se encuentran en un archivo (que Thunderbird considera un directorio de mensajes) dentro de un directorio local creado y usado por Thunderbird.listservers"
   ]
  },
  {
   "cell_type": "code",
   "execution_count": 2,
   "metadata": {},
   "outputs": [],
   "source": [
    "directorio = \"/home/goznalo/.thunderbird/ceesvdh2.default/Mail/fluor.ccc.uam-1.es/\"\n",
    "archivo = \"prueba1\" #modificar con el archivo pertinente\n",
    "\n",
    "path = directorio + archivo"
   ]
  },
  {
   "cell_type": "code",
   "execution_count": 3,
   "metadata": {},
   "outputs": [
    {
     "name": "stdout",
     "output_type": "stream",
     "text": [
      "/home/goznalo/.thunderbird/ceesvdh2.default/Mail/fluor.ccc.uam-1.es/prueba1\n"
     ]
    }
   ],
   "source": [
    "print(path)"
   ]
  },
  {
   "cell_type": "markdown",
   "metadata": {},
   "source": [
    "Ahora abriremos el archivo, que contiene cada uno de los mensajes de esa carpeta, y los separaremos en elementos de una lista, para luego iterar sobre ellos. Para efectuar esta separación, hemos de darnos cuenta de que en cada archivo de mensajes del directorio, los mensajes empiezan con una línea como por ejemplo `From - Wed Jul 29 15:16:48 2020`. Por tanto usaremos como separador `From -`"
   ]
  },
  {
   "cell_type": "code",
   "execution_count": 6,
   "metadata": {},
   "outputs": [],
   "source": [
    "with open(path, 'r') as file2:\n",
    "    messages = file2.read().replace('\\n', '')\n",
    "\n",
    "messlist = messages.split(\"From -\")[1:]"
   ]
  },
  {
   "cell_type": "markdown",
   "metadata": {},
   "source": [
    "Ahora que tenemos los mensajes, hemos de obtener una lista con los remitentes de cada uno de ellos, a la vez que comprobamos si tienen errores o no."
   ]
  },
  {
   "cell_type": "code",
   "execution_count": 23,
   "metadata": {},
   "outputs": [
    {
     "name": "stdout",
     "output_type": "stream",
     "text": [
      "['platino.ccc.uam.es', 'depaz18.ccc.uam.es']\n"
     ]
    }
   ],
   "source": [
    "senderlist = []\n",
    "for mess in messlist:\n",
    "    mess = mess.split(\"<root@\")[1]\n",
    "    senderlist.append(mess.split(\">Received:\")[0])\n",
    "print(senderlist)"
   ]
  },
  {
   "cell_type": "markdown",
   "metadata": {},
   "source": [
    "Ahora hemos de extraer el remitente de cada mensaje, que guardaremos en una lista. "
   ]
  },
  {
   "cell_type": "code",
   "execution_count": null,
   "metadata": {},
   "outputs": [],
   "source": []
  },
  {
   "cell_type": "code",
   "execution_count": null,
   "metadata": {},
   "outputs": [],
   "source": []
  }
 ],
 "metadata": {
  "kernelspec": {
   "display_name": "Python 3",
   "language": "python",
   "name": "python3"
  },
  "language_info": {
   "codemirror_mode": {
    "name": "ipython",
    "version": 3
   },
   "file_extension": ".py",
   "mimetype": "text/x-python",
   "name": "python",
   "nbconvert_exporter": "python",
   "pygments_lexer": "ipython3",
   "version": "3.8.3"
  }
 },
 "nbformat": 4,
 "nbformat_minor": 4
}
