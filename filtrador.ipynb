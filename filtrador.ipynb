{
 "cells": [
  {
   "cell_type": "markdown",
   "metadata": {},
   "source": [
    "# Clasificador de emails de Thunderbird a .csv\n",
    "\n",
    "## Objetivo\n",
    "Leer los mensajes diarios de `yum update` de las máquinas, y en base a eso crear una lista en un archivo .csv, con un \"ok\" si no ha habido problemas con la actualización o una x en caso de haberlos o no recibir correo.\n",
    "\n",
    "## Organización\n",
    "El programa va a tener dos partes claramente diferenciadas:\n",
    "1. Análisis de los mensajes\n",
    "2. Escritura del resultado en un archivo .csv\n",
    "\n",
    "Para más información, leer el README"
   ]
  },
  {
   "cell_type": "markdown",
   "metadata": {},
   "source": [
    "## 0. Preparación\n",
    "\n",
    "Para la tarea que tenemos entre manos necesitamos el módulo pyexcel. Pero hemos de definir los objetos correspondientes al problema entre manos, a saber: número de máquinas, lista con sus nombres (ordenada), lista inicializada con \"x\", y mensajes de no-error."
   ]
  },
  {
   "cell_type": "code",
   "execution_count": 1,
   "metadata": {},
   "outputs": [],
   "source": [
    "#Inputs (en línea de comandos en caso de script.py)\n",
    "sysargv1 = \"22\" #día\n",
    "sysargv2 = \"12\" #mes\n",
    "sysargv3 = \"--show\"\n",
    "\n",
    "num_to_month = {\"01\": \"Enero\", \"02\": \"Febrero\", \"03\": \"Marzo\", \"04\": \"Abril\", \"05\": \"Mayo\", \"06\": \"Junio\", \"07\": \"Julio\", \"08\": \"Agosto\", \"09\": \"Septiembre\", \"10\": \"Octubre\", \"11\": \"Noviembre\", \"12\": \"Diciembre\" }\n",
    "month = num_to_month[sysargv2]\n",
    "todaycolumn = int(sysargv1) #la columna es realmente la sysargv1 + 1 (la primera contiene los servidores). Pero como Python empieza en 0 las listas... "
   ]
  },
  {
   "cell_type": "code",
   "execution_count": 2,
   "metadata": {},
   "outputs": [],
   "source": [
    "okkeys = [\"No se han seleccionando paquetes para ser actualizados\",\"No packages marked for update\", \"¡Listo!\", \"Complete!\"] #el primer mensaje de error tiene una errata, sí."
   ]
  },
  {
   "cell_type": "code",
   "execution_count": 10,
   "metadata": {},
   "outputs": [],
   "source": [
    "import csv\n",
    "import pyexcel as pe\n",
    "import numpy as np"
   ]
  },
  {
   "cell_type": "code",
   "execution_count": 8,
   "metadata": {},
   "outputs": [],
   "source": [
    "xlsx_file = \"/home/goznalo/CCC/YumLogwatch/TareasFluor/Updates-2020.ods\"\n",
    "sheet = pe.get_book(file_name=xlsx_file)[month]\n",
    "arrayeet = sheet.get_array()"
   ]
  },
  {
   "cell_type": "code",
   "execution_count": 12,
   "metadata": {},
   "outputs": [],
   "source": [
    "numservers = list(np.transpose(arrayeet)[0]).index(\"zeus.ccc.uam.es\")"
   ]
  },
  {
   "cell_type": "code",
   "execution_count": 14,
   "metadata": {},
   "outputs": [
    {
     "name": "stdout",
     "output_type": "stream",
     "text": [
      "okay\n"
     ]
    }
   ],
   "source": [
    "listservers = []\n",
    "for i in range(1,numservers + 1): #quitar las filas extra añadidas.\n",
    "    listservers.append(arrayeet[i][0].lower())\n",
    "\n",
    "numservers = listservers.index(\"zeus.ccc.uam.es\") + 1\n",
    "\n",
    "okxlist = ['x'] * numservers\n",
    "\n",
    "listservers = listservers[0:numservers]\n",
    "\n",
    "#asegurarse de haber escogido bien los servidores:\n",
    "if not listservers[0] == \"abedul.ccc.uam.es\" or not listservers[-1] == \"zeus.ccc.uam.es\":\n",
    "    raise ValueError('Algo ha salido mal... la lista de servidores no es correcta.')\n",
    "else:\n",
    "    print('okay')"
   ]
  },
  {
   "cell_type": "markdown",
   "metadata": {},
   "source": [
    "En la lista de máquinas, gran parte de ellas no se cuentan a la hora de revisar estos correos porque no los mandan por defecto. Esto puede deberse a que  estén de baja, que sean sondas o SAIs que no mandan mensajes, etc. Vamos a eliminarlos de la lista de \"x\""
   ]
  },
  {
   "cell_type": "code",
   "execution_count": 16,
   "metadata": {},
   "outputs": [],
   "source": [
    "nomsglist = []\n",
    "for i in range(1,numservers + 1):\n",
    "    nomsglist.append(False if not arrayeet[i][1] else True) #coger los espacios en blanco del primer día del mes\n",
    "\n",
    "numservers = len(listservers)\n",
    "okxlist = ['x'] * numservers\n",
    "\n",
    "okxlist =  [a * b for a, b in zip(okxlist,nomsglist)]\n"
   ]
  },
  {
   "cell_type": "markdown",
   "metadata": {},
   "source": [
    "# 1. Análisis de los mensajes\n",
    "\n",
    "Los mensajes se encuentran en un archivo (que Thunderbird considera un directorio de mensajes) dentro de un directorio local creado y usado por Thunderbird."
   ]
  },
  {
   "cell_type": "code",
   "execution_count": 17,
   "metadata": {},
   "outputs": [],
   "source": [
    "directorio = \"/home/goznalo/.thunderbird/ceesvdh2.default/Mail/fluor.ccc.uam-1.es/YUMtotal.sbd/\"\n",
    "archivo = sysargv1 + sysargv2 #modificar con el archivo pertinente, o \"prueba1\"\n",
    "\n",
    "path = directorio + archivo"
   ]
  },
  {
   "cell_type": "code",
   "execution_count": 18,
   "metadata": {},
   "outputs": [
    {
     "name": "stdout",
     "output_type": "stream",
     "text": [
      "/home/goznalo/.thunderbird/ceesvdh2.default/Mail/fluor.ccc.uam-1.es/YUMtotal.sbd/2212\n"
     ]
    }
   ],
   "source": [
    "print(path)"
   ]
  },
  {
   "cell_type": "markdown",
   "metadata": {},
   "source": [
    "Ahora abriremos el archivo (con codificación \"iso-8859-1\", como podemos ver al ejecutar en una shell `file -i archivo`), que contiene cada uno de los mensajes de esa carpeta, y los separaremos en elementos de una lista, para luego iterar sobre ellos. Para efectuar esta separación, hemos de darnos cuenta de que en cada archivo de mensajes del directorio, los mensajes empiezan con una línea como por ejemplo `From - Wed Jul 29 15:16:48 2020`. Por tanto usaremos como separador `From -`"
   ]
  },
  {
   "cell_type": "code",
   "execution_count": 19,
   "metadata": {},
   "outputs": [],
   "source": [
    "with open(path, 'r', encoding='iso-8859-1') as file3:\n",
    "    messages = file3.read().replace('\\n', '')\n",
    "\n",
    "messlist = messages.split(\"From -\")[1:]"
   ]
  },
  {
   "cell_type": "markdown",
   "metadata": {},
   "source": [
    "Ahora que tenemos los mensajes, hemos de obtener una lista con los remitentes de cada uno de ellos, a la vez que comprobamos si tienen errores o no. Muchas veces hay correos duplicados de las máquinas, con uno de ellos dando error mientras que otro no. En esos casos son errores falsos. Los que son preocupantes son los \"reales\"."
   ]
  },
  {
   "cell_type": "code",
   "execution_count": 20,
   "metadata": {},
   "outputs": [
    {
     "name": "stdout",
     "output_type": "stream",
     "text": [
      "['x', 'x', 'x', 'x', '', 'x', 'ok', '', '', '', '', '', 'x', 'ok', 'ok', 'x', 'ok', 'x', 'x', '', '', 'x', 'x', '', '', '', 'x', 'x', 'x', '', 'x', 'ok', 'ok', 'ok', '', 'ok', 'ok', 'ok', 'ok', 'ok', 'ok', 'ok', 'ok', 'ok', 'ok', 'ok', 'x', 'ok', 'ok', 'ok', 'ok', 'ok', 'ok', 'ok', 'ok', 'ok', 'ok', 'ok', 'ok', 'ok', 'ok', 'ok', 'ok', 'ok', 'x', 'ok', 'ok', 'ok', 'ok', 'ok', 'ok', 'ok', 'ok', 'ok', 'x', '', '', 'x', '', 'x', 'x', 'x', '', 'x', '', 'x', '', 'x', 'x', '', 'x', '', 'x', '', '', '', 'x', 'x', 'x', '', '', '', 'x', '', '', 'x', 'x', 'ok', 'ok', 'ok', '', 'x', '', 'x', '', '', '', 'ok', 'x', '', 'ok', 'x', 'ok', '', '', 'x', 'ok', 'ok', 'x', '', 'x', 'x', 'x', 'x', 'ok', 'ok', 'ok', 'ok', 'ok', 'ok', 'ok', 'ok', 'ok', 'ok', 'ok', 'ok', 'ok', 'ok', 'ok', 'ok', 'ok', 'ok', 'ok', 'ok', 'ok', 'x', 'x', 'ok', 'ok', 'ok', 'x', 'ok', 'x', 'ok', 'ok', 'ok', 'x', 'x', 'x', 'x', 'x', 'x', 'x', 'x', 'x', 'x', 'x', 'x', 'x', 'x', 'x', 'x', 'x', 'x', 'x', 'x', 'x', 'ok', 'ok', 'x', 'x', 'ok', 'x', 'ok', 'x', 'ok', 'ok', 'ok', 'x', 'x', 'ok', 'ok', 'x', 'ok', 'ok', 'x', 'x', 'x', 'x', 'x', 'x', 'x', 'x', 'x', 'x', 'x', 'x', 'x', 'x', 'x', 'x', 'x', 'x', 'x', 'x', 'x', 'x', 'x', 'x', 'x', 'x', 'x', 'ok', 'x', 'x', 'x', 'ok', 'ok', 'x', 'ok', 'ok', 'x', 'ok', 'ok', 'ok', 'ok', 'x', 'ok', 'ok', 'ok', 'x', 'ok', 'ok', 'x', 'ok', 'ok', 'ok', 'ok', 'x', 'ok', 'ok', 'ok', 'ok', 'ok', 'x', 'ok', 'x', 'ok', 'ok', 'ok', 'x', 'ok', 'ok', 'ok', 'x', 'ok', 'ok', 'ok', 'ok', 'ok', 'x', 'ok', 'x', 'ok', 'ok', 'x', 'x', 'ok', 'x', 'x', 'x', 'x', 'x', 'x', 'x', 'x', 'x', 'x', 'x', 'x', 'x', 'x', 'ok', 'x', 'x', 'x', 'x', 'ok', 'x', 'x', 'x', 'x', 'x', 'x', 'x', 'x', 'x', 'x', 'x', 'x', 'x', 'ok', 'ok', 'x', 'x', 'ok', 'x', 'x', 'x', 'ok', 'x', 'ok', 'x', 'ok', 'x', 'x', 'x', 'ok', 'x', 'ok', 'x', 'ok', 'x', 'x', 'x', 'ok', 'ok', 'ok', 'x', 'ok', 'ok', 'x', 'x', 'x', 'x', 'ok', 'x', 'x', 'ok', 'x', 'x', 'x', 'x', 'ok', 'x', 'ok', 'x', 'x', 'x', 'ok', 'x', 'x', 'x', 'x', 'x', 'ok', 'x', 'x', 'x', 'ok', 'x', 'ok', 'ok', 'x', 'x', 'ok', 'x', 'ok', 'x', 'x', 'x', 'x', 'x', 'x', 'ok', 'ok', 'x', 'ok', 'x', 'ok', 'x', 'x', 'ok', 'ok', 'x', 'ok', 'x', 'x', 'x', 'x', 'x', 'x', 'x', 'x', 'ok', 'ok', 'ok', 'ok', '', 'ok', 'x', 'ok', 'ok', 'ok', 'ok', 'ok', 'ok', 'x', 'x', 'ok', 'ok', 'ok', 'ok', 'ok', 'ok', 'ok', 'ok', 'ok', 'ok', 'ok', 'ok', 'ok', 'ok', 'ok', 'ok', 'ok', 'ok', 'ok', 'ok', 'ok', 'ok', 'ok', 'ok', 'x', 'x', 'ok', 'ok', 'ok', '', '', '', 'ok', 'x', 'ok', 'ok', 'ok', 'ok', 'ok', '', 'ok', 'ok', 'ok', '', 'ok', 'ok', 'ok', 'ok', 'ok', 'ok', 'ok', 'ok', 'ok', 'ok', 'ok', 'ok', 'ok', 'ok', 'ok', 'ok', 'ok', 'x', 'ok', 'ok', 'ok', 'ok', 'ok', 'ok', 'x', 'x', '', '', '', '', 'ok', 'x', 'x', '', '', '', '', '', 'x', 'x', '', 'x', 'x', 'ok', 'x', 'x', 'x', 'x', 'ok', 'ok', 'x', 'ok', 'x', 'ok', 'ok', 'x', 'ok', 'x', 'x', 'ok', 'x', 'x', 'ok', 'x', '', '', '', '', '', '', 'ok', '', 'ok', '', 'x', 'ok', '', '', '', '', '', '', '', '', '', 'x', '', 'ok', '', 'x', '', '', '', 'ok', '', 'x', 'x', 'x', '', 'ok', '', '', '', '', '', '', '', '', '', '', '', 'ok', 'x', 'ok', '', 'x', '', 'x', '', 'x', 'x', 'x', '', 'x', 'x', '', '', '', 'x', 'x', 'x', 'x', '', 'x', '', '', '', 'x', 'x', 'ok', 'x', 'x', 'x', 'x', 'x', 'ok', 'x', '', 'ok', '', '', '', 'ok', '', '', '', '', '', 'x', 'x', 'ok', 'ok', 'ok', 'x', 'x', 'x', 'ok', 'ok', 'ok', 'ok', 'ok', 'ok', 'x', 'x', 'x', 'x', 'x', 'x', 'x', 'x', 'x', 'x', 'x', '', 'x', 'x', '', 'ok', 'x', 'x', 'x', 'x', 'x', 'x', 'x', 'x', 'x', 'ok', '', 'x', 'ok', 'ok', 'ok', 'ok', 'ok', 'x', '']\n"
     ]
    }
   ],
   "source": [
    "errlist = []\n",
    "falseerrcheck = []\n",
    "for mess in messlist:\n",
    "    sender = mess.split(\"<root@\")[1].split(\">Received:\")[0]\n",
    "    num = listservers.index(sender)\n",
    "    for oks in okkeys:\n",
    "        err = 0\n",
    "        if oks in mess:\n",
    "            okxlist[num] = \"ok\"\n",
    "            falseerrcheck.append(sender)\n",
    "            break\n",
    "        else:\n",
    "            err = 1\n",
    "    if err == 1:\n",
    "        errlist.append(sender)\n",
    "\n",
    "realerrors = list(sorted(set(errlist)-set(falseerrcheck)))\n",
    "print(okxlist)"
   ]
  },
  {
   "cell_type": "markdown",
   "metadata": {},
   "source": [
    "## 2. Escritura del csv y mostrar correos sospechosos\n",
    "\n",
    "Ya tenemos la lista con los datos que buscábamos. Ahora lo que hemos de hacer es convertirla en un archivo .csv, en formato columna."
   ]
  },
  {
   "cell_type": "code",
   "execution_count": 22,
   "metadata": {},
   "outputs": [],
   "source": [
    "with open(f'/home/goznalo/CCC/YumLogwatch/yum-thunderbird/returns{sysargv1 + sysargv2}.csv', 'w', newline='') as f:\n",
    "    writer = csv.writer(f)\n",
    "    for val in okxlist:\n",
    "        writer.writerow([val])"
   ]
  },
  {
   "cell_type": "markdown",
   "metadata": {},
   "source": [
    "Voilà"
   ]
  },
  {
   "cell_type": "code",
   "execution_count": 26,
   "metadata": {},
   "outputs": [
    {
     "name": "stdout",
     "output_type": "stream",
     "text": [
      "['ajalvir.ccc.uam.es', 'astato.ccc.uam.es', 'backupx.ccc.uam.es', 'cercedilla.ccc.uam.es', 'cervera.ccc.uam.es', 'chapineria.ccc.uam.es', 'colmenar.ccc.uam.es', 'hera.ccc.uam.es', 'platino.ccc.uam.es', 'plomo.ccc.uam.es', 'polonio.ccc.uam.es']\n",
      "['ajalvir.ccc.uam.es', 'astato.ccc.uam.es', 'backupx.ccc.uam.es', 'becerril.ccc.uam.es', 'belvis26.ccc.uam.es', 'bioinfo001.ccc.uam.es', 'bioinfo002.ccc.uam.es', 'cercedilla.ccc.uam.es', 'cervera.ccc.uam.es', 'chapineria.ccc.uam.es', 'cibeles02.ccc.uam.es', 'cibeles07.ccc.uam.es', 'cibeles09.ccc.uam.es', 'cibeles15.ccc.uam.es', 'cibeles16.ccc.uam.es', 'cibeles2-141.ccc.uam.es', 'cibeles2-172.ccc.uam.es', 'cibeles2-204.ccc.uam.es', 'cibeles2-325.ccc.uam.es', 'cibeles28.ccc.uam.es', 'cincovillas.ccc.uam.es', 'colmenar.ccc.uam.es', 'hera.ccc.uam.es', 'paladio.ccc.uam.es', 'panoramix.ccc.uam.es', 'platino.ccc.uam.es', 'plomo.ccc.uam.es', 'polonio.ccc.uam.es']\n",
      "\u001b[1mCorreos a revisar:\u001b[0m\n",
      "\tajalvir.ccc.uam.es\n",
      "\tastato.ccc.uam.es\n",
      "\tbackupx.ccc.uam.es\n",
      "\tbecerril.ccc.uam.es\t  (falsa alarma, probablemente)\n",
      "\tbelvis26.ccc.uam.es\t  (falsa alarma, probablemente)\n",
      "\tbioinfo001.ccc.uam.es\t  (falsa alarma, probablemente)\n",
      "\tbioinfo002.ccc.uam.es\t  (falsa alarma, probablemente)\n",
      "\tcercedilla.ccc.uam.es\n",
      "\tcervera.ccc.uam.es\n",
      "\tchapineria.ccc.uam.es\n",
      "\tcibeles02.ccc.uam.es\t  (falsa alarma, probablemente)\n",
      "\tcibeles07.ccc.uam.es\t  (falsa alarma, probablemente)\n",
      "\tcibeles09.ccc.uam.es\t  (falsa alarma, probablemente)\n",
      "\tcibeles15.ccc.uam.es\t  (falsa alarma, probablemente)\n",
      "\tcibeles16.ccc.uam.es\t  (falsa alarma, probablemente)\n",
      "\tcibeles2-141.ccc.uam.es\t  (falsa alarma, probablemente)\n",
      "\tcibeles2-172.ccc.uam.es\t  (falsa alarma, probablemente)\n",
      "\tcibeles2-204.ccc.uam.es\t  (falsa alarma, probablemente)\n",
      "\tcibeles2-325.ccc.uam.es\t  (falsa alarma, probablemente)\n",
      "\tcibeles28.ccc.uam.es\t  (falsa alarma, probablemente)\n",
      "\tcincovillas.ccc.uam.es\t  (falsa alarma, probablemente)\n",
      "\tcolmenar.ccc.uam.es\n",
      "\thera.ccc.uam.es\n",
      "\tpaladio.ccc.uam.es\t  (falsa alarma, probablemente)\n",
      "\tpanoramix.ccc.uam.es\t  (falsa alarma, probablemente)\n",
      "\tplatino.ccc.uam.es\n",
      "\tplomo.ccc.uam.es\n",
      "\tpolonio.ccc.uam.es\n"
     ]
    }
   ],
   "source": [
    "errlist = sorted(set(errlist)) #set() para eliminar duplicados\n",
    "\n",
    "print(realerrors)\n",
    "print(errlist)\n",
    "\n",
    "####Sacar por pantalla los correos a revisar\n",
    "print(\"\\033[1mCorreos a revisar:\\033[0m\")\n",
    "if len(errlist) < 10 or sysargv3 == \"--show\":\n",
    "    for err in errlist:\n",
    "        if err in realerrors:\n",
    "            print(\"\\t\" + str(err))\n",
    "        else:\n",
    "            print(\"\\t\" + str(err) + \"\\t  (falsa alarma, probablemente)\")\n",
    "else:\n",
    "    print('Demasiados servidores por mostrar (' + str(len(errlist)) + '). Para verlos, repetir el comando con \"--show\" como tercer argumento')"
   ]
  },
  {
   "cell_type": "code",
   "execution_count": null,
   "metadata": {},
   "outputs": [],
   "source": []
  }
 ],
 "metadata": {
  "kernelspec": {
   "display_name": "Python 3",
   "language": "python",
   "name": "python3"
  },
  "language_info": {
   "codemirror_mode": {
    "name": "ipython",
    "version": 3
   },
   "file_extension": ".py",
   "mimetype": "text/x-python",
   "name": "python",
   "nbconvert_exporter": "python",
   "pygments_lexer": "ipython3",
   "version": "3.9.1"
  }
 },
 "nbformat": 4,
 "nbformat_minor": 4
}
