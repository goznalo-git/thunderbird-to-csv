{
 "cells": [
  {
   "cell_type": "markdown",
   "metadata": {},
   "source": [
    "# Clasificador de emails de Thunderbird a .csv\n",
    "\n",
    "## Objetivo\n",
    "Leer los mensajes diarios de `yum update` de las máquinas, y en base a eso crear una lista en un archivo .csv, con un \"ok\" si no ha habido problemas con la actualización o una x en caso de haberlos o no recibir correo.\n",
    "\n",
    "## Organización\n",
    "El programa va a tener dos partes claramente diferenciadas:\n",
    "1. Análisis de los mensajes\n",
    "2. Escritura del resultado en un archivo .csv\n",
    "\n",
    "Para más información, leer el README"
   ]
  },
  {
   "cell_type": "markdown",
   "metadata": {},
   "source": [
    "## 0. Preparación\n",
    "\n",
    "Para la tarea que tenemos entre manos no es necesario ningún módulo. Pero hemos de definir los objetos correspondientes al problema entre manos, a saber: número de máquinas, lista con sus nombres (ordenada), lista inicializada con \"x\", y mensajes de no-error."
   ]
  },
  {
   "cell_type": "code",
   "execution_count": 139,
   "metadata": {},
   "outputs": [],
   "source": [
    "import csv"
   ]
  },
  {
   "cell_type": "code",
   "execution_count": 140,
   "metadata": {},
   "outputs": [],
   "source": [
    "okkeys = [\"No se han seleccionando paquetes para ser actualizados\",\"No packages marked for update\", \"¡Listo!\", \"Complete!\"] #el primer mensaje de error tiene una errata, sí.\n",
    "with open(\"/home/goznalo/CCC/servernames.csv\", encoding='utf-8-sig') as file1: #modificar con el archivo pertinente\n",
    "    listservers =  [server.replace('\\n', '').lower() for server in file1]\n",
    "listservers.append(\"ciempozuelos.ccc.uam.es\") #ciempozuelos no está incluido\n",
    "#listservers.sort()\n",
    "numservers = len(listservers)\n",
    "okxlist = ['x'] * numservers\n"
   ]
  },
  {
   "cell_type": "markdown",
   "metadata": {},
   "source": [
    "En la lista de máquinas, gran parte de ellas no se cuentan a la hora de revisar estos correos porque no los mandan por defecto. Esto puede deberse a que  estén de baja, que sean sondas o SAIs que no mandan mensajes, etc. Vamos a eliminarlos de la lista de \"x\""
   ]
  },
  {
   "cell_type": "code",
   "execution_count": 141,
   "metadata": {},
   "outputs": [],
   "source": [
    "with open(\"/home/goznalo/CCC/nomessages.csv\", encoding='utf-8-sig') as file2: #modificar con el archivo pertinente\n",
    "    nomsglist =  [False if not server.replace('\\n', '') else True for server in file2]\n",
    "nomsglist.extend([False,False]) #el valor de zeus, inexistente ya que no manda mensajes, y ciempozuelos (no incluido)\n",
    "\n",
    "okxlist =  [a * b for a, b in zip(okxlist,nomsglist)]"
   ]
  },
  {
   "cell_type": "markdown",
   "metadata": {},
   "source": [
    "# 1. Análisis de los mensajes\n",
    "\n",
    "Los mensajes se encuentran en un archivo (que Thunderbird considera un directorio de mensajes) dentro de un directorio local creado y usado por Thunderbird."
   ]
  },
  {
   "cell_type": "code",
   "execution_count": 142,
   "metadata": {},
   "outputs": [],
   "source": [
    "directorio = \"/home/goznalo/.thunderbird/ceesvdh2.default/Mail/fluor.ccc.uam-1.es/\"\n",
    "archivo = \"YUMtotal.sbd/1208\" #modificar con el archivo pertinente, o \"prueba1\"\n",
    "\n",
    "path = directorio + archivo"
   ]
  },
  {
   "cell_type": "code",
   "execution_count": 143,
   "metadata": {},
   "outputs": [
    {
     "name": "stdout",
     "output_type": "stream",
     "text": [
      "/home/goznalo/.thunderbird/ceesvdh2.default/Mail/fluor.ccc.uam-1.es/YUMtotal.sbd/1208\n"
     ]
    }
   ],
   "source": [
    "print(path)"
   ]
  },
  {
   "cell_type": "markdown",
   "metadata": {},
   "source": [
    "Ahora abriremos el archivo (con codificación \"iso-8859-1\", como podemos ver al ejecutar en una shell `file -i archivo`), que contiene cada uno de los mensajes de esa carpeta, y los separaremos en elementos de una lista, para luego iterar sobre ellos. Para efectuar esta separación, hemos de darnos cuenta de que en cada archivo de mensajes del directorio, los mensajes empiezan con una línea como por ejemplo `From - Wed Jul 29 15:16:48 2020`. Por tanto usaremos como separador `From -`"
   ]
  },
  {
   "cell_type": "code",
   "execution_count": 144,
   "metadata": {},
   "outputs": [],
   "source": [
    "with open(path, 'r', encoding='iso-8859-1') as file3:\n",
    "    messages = file3.read().replace('\\n', '')\n",
    "\n",
    "messlist = messages.split(\"From -\")[1:]"
   ]
  },
  {
   "cell_type": "markdown",
   "metadata": {},
   "source": [
    "Ahora que tenemos los mensajes, hemos de obtener una lista con los remitentes de cada uno de ellos, a la vez que comprobamos si tienen errores o no."
   ]
  },
  {
   "cell_type": "code",
   "execution_count": 148,
   "metadata": {},
   "outputs": [],
   "source": [
    "errlist = []\n",
    "for mess in messlist:\n",
    "    sender = mess.split(\"<root@\")[1].split(\">Received:\")[0]\n",
    "    num = listservers.index(sender)\n",
    "    for oks in okkeys:\n",
    "        err = 0\n",
    "        if oks in mess:\n",
    "            okxlist[num] = \"ok\"\n",
    "            break\n",
    "        else:\n",
    "            err = 1\n",
    "    if err == 1:\n",
    "        errlist.append(sender)"
   ]
  },
  {
   "cell_type": "markdown",
   "metadata": {},
   "source": [
    "## 2. Escritura del csv y mostrar correos sospechosos\n",
    "\n",
    "Ya tenemos la lista con los datos que buscábamos. Ahora lo que hemos de hacer es convertirla en un archivo .csv, en formato columna."
   ]
  },
  {
   "cell_type": "code",
   "execution_count": 147,
   "metadata": {},
   "outputs": [],
   "source": [
    "with open('/home/goznalo/CCC/yum-thunderbird/returns.csv', 'w', newline='') as f:\n",
    "    writer = csv.writer(f)\n",
    "    for val in okxlist:\n",
    "        writer.writerow([val])"
   ]
  },
  {
   "cell_type": "markdown",
   "metadata": {},
   "source": [
    "Voilà"
   ]
  },
  {
   "cell_type": "code",
   "execution_count": 150,
   "metadata": {},
   "outputs": [
    {
     "name": "stdout",
     "output_type": "stream",
     "text": [
      "\u001b[1mCorreos a revisar:\u001b[0m\n",
      "\txchem70.ccc.uam.es\n",
      "\tbackupx.ccc.uam.es\n",
      "\tcibeles2-008.ccc.uam.es\n"
     ]
    }
   ],
   "source": [
    "####Sacar por pantalla los correos a revisar\n",
    "errlist = list(dict.fromkeys(errlist))\n",
    "print(\"\\033[1mCorreos a revisar:\\033[0m\")\n",
    "for err in errlist:\n",
    "    print(\"\\t\" + str(err))"
   ]
  },
  {
   "cell_type": "code",
   "execution_count": null,
   "metadata": {},
   "outputs": [],
   "source": []
  }
 ],
 "metadata": {
  "kernelspec": {
   "display_name": "Python 3",
   "language": "python",
   "name": "python3"
  },
  "language_info": {
   "codemirror_mode": {
    "name": "ipython",
    "version": 3
   },
   "file_extension": ".py",
   "mimetype": "text/x-python",
   "name": "python",
   "nbconvert_exporter": "python",
   "pygments_lexer": "ipython3",
   "version": "3.8.3"
  }
 },
 "nbformat": 4,
 "nbformat_minor": 4
}
