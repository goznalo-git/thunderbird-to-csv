{
 "cells": [
  {
   "cell_type": "markdown",
   "metadata": {},
   "source": [
    "# Clasificador de emails de Thunderbird a .csv\n",
    "\n",
    "## Objetivo\n",
    "Leer los mensajes diarios de `yum update` de las máquinas, y en base a eso crear una lista en un archivo .csv, con un \"ok\" si no ha habido problemas con la actualización o una x en caso de haberlos o no recibir correo.\n",
    "\n",
    "## Organización\n",
    "El programa va a tener dos partes claramente diferenciadas:\n",
    "1. Análisis de los mensajes\n",
    "2. Escritura del resultado en un archivo .csv\n",
    "\n",
    "Para más información, leer el README"
   ]
  },
  {
   "cell_type": "markdown",
   "metadata": {},
   "source": [
    "## 0. Preparación\n",
    "\n",
    "Para la tarea que tenemos entre manos necesitamos el módulo pyexcel. Pero hemos de definir los objetos correspondientes al problema entre manos, a saber: número de máquinas, lista con sus nombres (ordenada), lista inicializada con \"x\", y mensajes de no-error."
   ]
  },
  {
   "cell_type": "code",
   "execution_count": 15,
   "metadata": {},
   "outputs": [],
   "source": [
    "#Inputs (en línea de comandos en caso de script.py)\n",
    "sysargv1 = \"19\" #día\n",
    "sysargv2 = \"01\" #mes\n",
    "sysargv3 = \"--show\"\n",
    "\n",
    "num_to_month = {\"01\": \"Enero\", \"02\": \"Febrero\", \"03\": \"Marzo\", \"04\": \"Abril\", \"05\": \"Mayo\", \"06\": \"Junio\", \"07\": \"Julio\", \"08\": \"Agosto\", \"09\": \"Septiembre\", \"10\": \"Octubre\", \"11\": \"Noviembre\", \"12\": \"Diciembre\" }\n",
    "month = num_to_month[sysargv2]\n",
    "todaycolumn = int(sysargv1) #la columna es realmente la sysargv1 + 1 (la primera contiene los servidores). Pero como Python empieza en 0 las listas... "
   ]
  },
  {
   "cell_type": "code",
   "execution_count": 16,
   "metadata": {},
   "outputs": [],
   "source": [
    "okkeys = [\"No se han seleccionando paquetes para ser actualizados\",\"No packages marked for update\", \"¡Listo!\", \"Complete!\"] #el primer mensaje de error tiene una errata, sí."
   ]
  },
  {
   "cell_type": "code",
   "execution_count": 17,
   "metadata": {},
   "outputs": [],
   "source": [
    "import csv\n",
    "import pyexcel as pe\n",
    "import numpy as np"
   ]
  },
  {
   "cell_type": "code",
   "execution_count": 20,
   "metadata": {},
   "outputs": [],
   "source": [
    "xlsx_file = \"/home/goznalo/CCC/YumLogwatch/TareasFluor/Updates-2021.ods\"\n",
    "sheet = pe.get_book(file_name=xlsx_file)[month]\n",
    "arrayeet = sheet.get_array()"
   ]
  },
  {
   "cell_type": "code",
   "execution_count": 21,
   "metadata": {},
   "outputs": [],
   "source": [
    "numservers = list(np.transpose(arrayeet)[0]).index(\"zeus.ccc.uam.es\")"
   ]
  },
  {
   "cell_type": "code",
   "execution_count": 22,
   "metadata": {},
   "outputs": [
    {
     "name": "stdout",
     "output_type": "stream",
     "text": [
      "okay\n"
     ]
    }
   ],
   "source": [
    "listservers = []\n",
    "for i in range(1,numservers + 1): #quitar las filas extra añadidas.\n",
    "    listservers.append(arrayeet[i][0].lower())\n",
    "\n",
    "numservers = listservers.index(\"zeus.ccc.uam.es\") + 1\n",
    "\n",
    "okxlist = ['x'] * numservers\n",
    "\n",
    "listservers = listservers[0:numservers]\n",
    "\n",
    "#asegurarse de haber escogido bien los servidores:\n",
    "if not listservers[0] == \"abedul.ccc.uam.es\" or not listservers[-1] == \"zeus.ccc.uam.es\":\n",
    "    raise ValueError('Algo ha salido mal... la lista de servidores no es correcta.')\n",
    "else:\n",
    "    print('okay')"
   ]
  },
  {
   "cell_type": "markdown",
   "metadata": {},
   "source": [
    "En la lista de máquinas, gran parte de ellas no se cuentan a la hora de revisar estos correos porque no los mandan por defecto. Esto puede deberse a que  estén de baja, que sean sondas o SAIs que no mandan mensajes, etc. Vamos a eliminarlos de la lista de \"x\""
   ]
  },
  {
   "cell_type": "code",
   "execution_count": 23,
   "metadata": {},
   "outputs": [],
   "source": [
    "nomsglist = []\n",
    "for i in range(1,numservers + 1):\n",
    "    nomsglist.append(False if not arrayeet[i][1] else True) #coger los espacios en blanco del primer día del mes\n",
    "\n",
    "numservers = len(listservers)\n",
    "okxlist = ['x'] * numservers\n",
    "\n",
    "okxlist =  [a * b for a, b in zip(okxlist,nomsglist)]\n"
   ]
  },
  {
   "cell_type": "markdown",
   "metadata": {},
   "source": [
    "# 1. Análisis de los mensajes\n",
    "\n",
    "Los mensajes se encuentran en un archivo (que Thunderbird considera un directorio de mensajes) dentro de un directorio local creado y usado por Thunderbird."
   ]
  },
  {
   "cell_type": "code",
   "execution_count": 25,
   "metadata": {},
   "outputs": [],
   "source": [
    "directorio = \"/home/goznalo/.thunderbird/ceesvdh2.default/Mail/fluor.ccc.uam-1.es/YUM2021.sbd/\"\n",
    "archivo = sysargv2 + sysargv1 #modificar con el archivo pertinente, o \"prueba1\"\n",
    "\n",
    "path = directorio + archivo"
   ]
  },
  {
   "cell_type": "code",
   "execution_count": 26,
   "metadata": {},
   "outputs": [
    {
     "name": "stdout",
     "output_type": "stream",
     "text": [
      "/home/goznalo/.thunderbird/ceesvdh2.default/Mail/fluor.ccc.uam-1.es/YUM2021.sbd/0119\n"
     ]
    }
   ],
   "source": [
    "print(path)"
   ]
  },
  {
   "cell_type": "markdown",
   "metadata": {},
   "source": [
    "Ahora abriremos el archivo (con codificación \"iso-8859-1\", como podemos ver al ejecutar en una shell `file -i archivo`), que contiene cada uno de los mensajes de esa carpeta, y los separaremos en elementos de una lista, para luego iterar sobre ellos. Para efectuar esta separación, hemos de darnos cuenta de que en cada archivo de mensajes del directorio, los mensajes empiezan con una línea como por ejemplo `From - Wed Jul 29 15:16:48 2020`. Por tanto usaremos como separador `From -`"
   ]
  },
  {
   "cell_type": "code",
   "execution_count": 27,
   "metadata": {},
   "outputs": [],
   "source": [
    "with open(path, 'r', encoding='iso-8859-1') as file3:\n",
    "    messages = file3.read().replace('\\n', '')\n",
    "\n",
    "messlist = messages.split(\"From -\")[1:]"
   ]
  },
  {
   "cell_type": "markdown",
   "metadata": {},
   "source": [
    "Ahora que tenemos los mensajes, hemos de obtener una lista con los remitentes de cada uno de ellos, a la vez que comprobamos si tienen errores o no. Muchas veces hay correos duplicados de las máquinas, con uno de ellos dando error mientras que otro no. En esos casos son errores falsos. Los que son preocupantes son los \"reales\"."
   ]
  },
  {
   "cell_type": "code",
   "execution_count": 45,
   "metadata": {},
   "outputs": [
    {
     "name": "stdout",
     "output_type": "stream",
     "text": [
      "['x', 'x', 'x', 'x', '', 'x', 'ok', '', '', '', '', '', 'x', 'ok', 'ok', 'x', 'ok', 'x', 'x', '', '', 'x', 'x', '', '', '', 'x', 'x', 'ok', '', 'x', 'ok', 'ok', 'ok', '', 'ok', 'ok', 'ok', 'ok', 'ok', 'ok', 'ok', 'ok', 'ok', 'ok', 'ok', 'ok', 'ok', 'ok', 'ok', 'ok', 'ok', 'ok', 'ok', 'ok', 'ok', 'ok', 'ok', 'ok', 'ok', 'ok', 'ok', 'ok', 'ok', 'x', 'ok', 'ok', 'ok', 'ok', 'ok', 'ok', 'ok', 'ok', 'ok', 'x', '', '', 'x', '', 'x', 'x', 'x', '', 'x', '', 'x', '', 'x', 'x', '', 'x', '', 'x', '', '', '', 'x', 'x', 'x', '', '', '', 'x', '', '', 'x', 'x', 'ok', 'ok', 'ok', '', 'x', '', 'x', '', '', '', 'ok', 'ok', '', 'ok', 'ok', 'ok', '', '', 'x', 'ok', 'ok', 'x', '', 'x', 'x', 'x', 'ok', 'ok', 'ok', 'ok', 'ok', 'ok', 'ok', 'ok', 'ok', 'ok', 'ok', 'ok', 'ok', 'ok', 'ok', 'ok', 'ok', 'ok', 'ok', 'ok', 'ok', 'ok', 'x', 'x', 'ok', 'ok', 'ok', 'x', 'ok', 'x', 'ok', 'ok', 'ok', 'x', 'ok', 'ok', 'x', 'ok', 'ok', 'ok', 'ok', 'x', 'ok', 'ok', 'ok', 'x', 'x', 'ok', 'ok', 'x', 'ok', 'ok', 'ok', 'x', 'ok', 'ok', 'x', 'x', 'ok', 'x', 'ok', 'x', 'ok', 'ok', 'ok', 'x', 'x', 'ok', 'ok', 'x', 'ok', 'ok', 'x', 'x', 'ok', 'ok', 'ok', 'x', 'ok', 'x', 'ok', 'x', 'x', 'ok', 'ok', 'x', 'ok', 'ok', 'ok', 'ok', 'ok', 'ok', 'ok', 'x', 'ok', 'ok', 'x', 'ok', 'ok', 'ok', 'ok', 'x', 'ok', 'ok', 'ok', 'x', 'ok', 'ok', 'x', 'ok', 'ok', 'ok', 'ok', 'x', 'ok', 'ok', 'ok', 'x', 'ok', 'ok', 'x', 'ok', 'ok', 'ok', 'ok', 'x', 'ok', 'ok', 'ok', 'ok', 'ok', 'x', 'ok', 'x', 'ok', 'ok', 'ok', 'x', 'ok', 'ok', 'ok', 'x', 'ok', 'ok', 'ok', 'ok', 'ok', 'x', 'ok', 'x', 'ok', 'ok', 'x', 'x', 'ok', 'x', 'ok', 'ok', 'ok', 'x', 'x', 'x', 'ok', 'x', 'ok', 'ok', 'ok', 'x', 'ok', 'ok', 'ok', 'x', 'ok', 'ok', 'ok', 'x', 'x', 'x', 'x', 'x', 'x', 'x', 'ok', 'x', 'x', 'x', 'x', 'x', 'ok', 'ok', 'x', 'x', 'ok', 'x', 'x', 'x', 'ok', 'x', 'ok', 'x', 'ok', 'x', 'x', 'x', 'ok', 'x', 'ok', 'x', 'ok', 'x', 'x', 'x', 'ok', 'ok', 'ok', 'x', 'ok', 'ok', 'x', 'x', 'x', 'x', 'ok', 'x', 'x', 'ok', 'x', 'x', 'x', 'x', 'ok', 'x', 'ok', 'x', 'x', 'x', 'ok', 'x', 'x', 'x', 'x', 'x', 'ok', 'x', 'x', 'x', 'ok', 'x', 'ok', 'ok', 'x', 'x', 'ok', 'x', 'x', 'x', 'x', 'x', 'x', 'x', 'x', 'ok', 'ok', 'x', 'ok', 'x', 'ok', 'x', 'x', 'ok', 'ok', 'x', 'ok', 'x', 'x', 'x', 'x', 'x', 'x', 'x', 'x', 'ok', 'ok', 'ok', 'ok', '', 'ok', 'x', 'ok', 'ok', 'ok', 'ok', 'ok', 'ok', 'x', 'x', 'ok', 'ok', 'ok', 'ok', 'ok', 'ok', 'ok', 'ok', 'ok', 'ok', 'ok', 'ok', 'ok', 'ok', 'ok', 'ok', 'ok', 'ok', 'ok', 'ok', 'ok', 'ok', 'ok', 'ok', 'x', 'x', 'ok', 'ok', 'ok', '', '', '', 'ok', 'ok', 'ok', 'ok', 'ok', 'x', 'ok', '', 'ok', 'ok', 'ok', '', 'ok', 'ok', 'ok', 'ok', 'ok', 'ok', 'ok', 'ok', 'ok', 'ok', 'ok', 'ok', 'ok', 'ok', 'ok', 'ok', 'ok', 'x', 'ok', 'ok', 'ok', 'ok', 'ok', 'ok', 'x', 'x', '', '', '', '', 'ok', 'x', 'x', '', '', '', '', '', 'x', 'x', '', 'x', 'x', 'ok', 'x', 'x', 'x', 'x', 'ok', 'ok', 'x', 'ok', 'x', 'ok', 'ok', 'x', 'ok', 'x', 'x', 'ok', 'x', 'x', 'ok', 'x', '', '', '', '', '', '', 'ok', '', 'ok', '', 'x', 'ok', '', '', '', '', '', '', '', '', '', 'ok', '', 'ok', '', 'x', '', '', '', 'ok', '', 'x', 'x', 'x', '', 'ok', '', '', '', '', '', '', '', '', '', '', '', 'ok', 'x', 'ok', '', 'x', '', 'x', '', 'x', 'x', 'ok', '', 'x', 'x', '', '', '', 'x', 'x', 'x', 'x', '', 'x', '', '', '', 'x', 'x', 'ok', 'x', 'x', 'x', 'x', 'ok', 'ok', 'x', '', 'ok', '', '', '', 'ok', '', '', '', '', '', 'x', 'x', 'ok', 'ok', 'ok', 'x', 'x', 'x', 'ok', 'ok', 'ok', 'ok', 'ok', 'ok', 'x', 'x', 'x', 'x', 'x', 'x', 'x', 'x', 'x', 'x', 'x', '', 'x', 'x', '', 'ok', 'x', 'x', 'x', 'x', 'x', 'x', 'x', 'x', 'x', 'ok', '', 'x', 'ok', 'ok', 'ok', 'ok', 'ok', 'ok', '']\n"
     ]
    }
   ],
   "source": [
    "errlist = []\n",
    "errmessagedict = {}\n",
    "falseerrcheck = []\n",
    "for mess in messlist:\n",
    "    sender = mess.split(\"<root@\")[1].split(\">Received:\")[0]\n",
    "    num = listservers.index(sender)\n",
    "    for oks in okkeys:\n",
    "        err = 0\n",
    "        if oks in mess:\n",
    "            okxlist[num] = \"ok\"\n",
    "            falseerrcheck.append(sender)\n",
    "            break\n",
    "        else:\n",
    "            err = 1\n",
    "    if err == 1:\n",
    "        errlist.append(sender)\n",
    "        if \"Content-Transfer-Encoding: 8bit\" in mess:\n",
    "            realmess = mess.split(\"Content-Transfer-Encoding: 8bit\")\n",
    "        elif \"X-Cron-Env: <USER=root>\" in mess:\n",
    "            realmess = mess.split(\"X-Cron-Env: <USER=root>\")\n",
    "        errmessagedict[sender] = realmess[1]\n",
    "\n",
    "realerrors = list(sorted(set(errlist)-set(falseerrcheck)))\n",
    "print(okxlist)"
   ]
  },
  {
   "cell_type": "markdown",
   "metadata": {},
   "source": [
    "## 2. Escritura del csv y mostrar correos sospechosos\n",
    "\n",
    "Ya tenemos la lista con los datos que buscábamos. Ahora lo que hemos de hacer es convertirla en un archivo .csv, en formato columna."
   ]
  },
  {
   "cell_type": "code",
   "execution_count": 46,
   "metadata": {},
   "outputs": [],
   "source": [
    "with open(f'/home/goznalo/CCC/YumLogwatch/usefulscripts/yum-thunderbird/returns{sysargv2 + sysargv1}.csv', 'w', newline='') as f:\n",
    "    writer = csv.writer(f)\n",
    "    for val in okxlist:\n",
    "        writer.writerow([val])"
   ]
  },
  {
   "cell_type": "markdown",
   "metadata": {},
   "source": [
    "Voilà"
   ]
  },
  {
   "cell_type": "code",
   "execution_count": 60,
   "metadata": {},
   "outputs": [
    {
     "name": "stdout",
     "output_type": "stream",
     "text": [
      "\u001b[1mCorreos a revisar:\u001b[0m\n",
      "\tajalvir.ccc.uam.es\t-!-CENTOS6-!-\n",
      "\tastato.ccc.uam.es\t-!-CENTOS6-!-\n",
      "\tbackupx.ccc.uam.es\t-!-CENTOS6-!-\n",
      "\tcercedilla.ccc.uam.es\t-!-CENTOS6-!-\n",
      "\tcervera.ccc.uam.es\t-!-CENTOS6-!-\n",
      "\tcibeles2-006.ccc.uam.es\t  (falsa alarma, probablemente)\n",
      "\tcibeles2-172.ccc.uam.es\t  (falsa alarma, probablemente)\n",
      "\tcibeles2-337.ccc.uam.es\t  (falsa alarma, probablemente)\n",
      "\thera.ccc.uam.es\t-!-CENTOS6-!-\n",
      "\tplatino.ccc.uam.es\t-!-CENTOS6-!-\n",
      "\tplomo.ccc.uam.es\t-!-CENTOS6-!-\n"
     ]
    }
   ],
   "source": [
    "errlist = sorted(set(errlist)) #set() para eliminar duplicados\n",
    "\n",
    "#print(realerrors)\n",
    "#print(errlist)\n",
    "\n",
    "centos6err1 = 'Invalid release/repo/arch combination/removing mirrorlist with no valid mirrors: /var/cache/yum/x86_64/6/base/mirrorlist.txt'\n",
    "centos6err2 = 'Invalid release/repo/arch combination/removing mirrorlist with no valid mirrors: /var/cache/yum/x86_64/6/centosplus/mirrorlist.txt'\n",
    "\n",
    "####Sacar por pantalla los correos a revisar\n",
    "print(\"\\033[1mCorreos a revisar:\\033[0m\")\n",
    "if len(errlist) < 10 or sysargv3 == \"--show\":\n",
    "    for err in errlist:\n",
    "        if err in realerrors:\n",
    "            if centos6err1 in errmessagedict[err]:\n",
    "                print(\"\\t\" + str(err) + '\\t' + '-!-CENTOS6-!-')\n",
    "            elif centos6err2 in errmessagedict[err]:\n",
    "                print(\"\\t\" + str(err) + '\\t' + '-!-CENTOS6-!-')\n",
    "            else:\n",
    "                print(\"\\t\" + str(err))\n",
    "                #print(errmessagedict[err])\n",
    "        else:\n",
    "            print(\"\\t\" + str(err) + \"\\t  (falsa alarma, probablemente)\")\n",
    "else:\n",
    "    print('Demasiados servidores por mostrar (' + str(len(errlist)) + '). Para verlos, repetir el comando con \"--show\" como tercer argumento')"
   ]
  },
  {
   "cell_type": "code",
   "execution_count": null,
   "metadata": {},
   "outputs": [],
   "source": []
  },
  {
   "cell_type": "code",
   "execution_count": null,
   "metadata": {},
   "outputs": [],
   "source": []
  }
 ],
 "metadata": {
  "kernelspec": {
   "display_name": "Python 3",
   "language": "python",
   "name": "python3"
  },
  "language_info": {
   "codemirror_mode": {
    "name": "ipython",
    "version": 3
   },
   "file_extension": ".py",
   "mimetype": "text/x-python",
   "name": "python",
   "nbconvert_exporter": "python",
   "pygments_lexer": "ipython3",
   "version": "3.9.1"
  }
 },
 "nbformat": 4,
 "nbformat_minor": 4
}
