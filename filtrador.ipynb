{
 "cells": [
  {
   "cell_type": "markdown",
   "metadata": {},
   "source": [
    "# Clasificador de emails de Thunderbird a .csv\n",
    "\n",
    "## Objetivo\n",
    "Leer los mensajes diarios de `ỳum update` de las máquinas, y en base a eso crear una lista en un archivo .csv\n",
    "\n",
    "## Organización\n",
    "El programa va a tener dos partes claramente diferenciadas:\n",
    "1. Análisis de los mensajes\n",
    "2. Escritura del resultado en un archivo .csv\n",
    "\n",
    "Para más información, leer el README"
   ]
  },
  {
   "cell_type": "code",
   "execution_count": 3,
   "metadata": {},
   "outputs": [],
   "source": [
    "import os"
   ]
  },
  {
   "cell_type": "markdown",
   "metadata": {},
   "source": [
    "# 1. Análisis de los mensajes\n",
    "\n",
    "Los mensajes se encuentran en un archivo (que Thunderbird considera un directorio de mensajes) dentro de un directorio local creado y usado por Thunderbird."
   ]
  },
  {
   "cell_type": "code",
   "execution_count": 3,
   "metadata": {},
   "outputs": [],
   "source": [
    "directorio = \"/home/goznalo/.thunderbird/ceesvdh2.default/Mail/fluor.ccc.uam-1.es/\"\n",
    "archivo = \"prueba1\" #modificar con el archivo pertinente\n",
    "\n",
    "path = directorio + archivo"
   ]
  },
  {
   "cell_type": "code",
   "execution_count": 6,
   "metadata": {},
   "outputs": [
    {
     "name": "stdout",
     "output_type": "stream",
     "text": [
      "/home/goznalo/.thunderbird/ceesvdh2.default/Mail/fluor.ccc.uam-1.es/Salida yum.sbd/salida yum 1907 - ok\n"
     ]
    }
   ],
   "source": [
    "print(path)"
   ]
  },
  {
   "cell_type": "markdown",
   "metadata": {},
   "source": [
    "Ahora abriremos el archivo, que contiene cada uno de los mensajes de esa carpeta, y los separaremos en elementos de una lista, para luego iterar sobre ellos"
   ]
  },
  {
   "cell_type": "code",
   "execution_count": 6,
   "metadata": {},
   "outputs": [
    {
     "data": {
      "text/plain": [
       "['',\n",
       " ' Wed Jul 29 15:16:48 2020X-Account-Key: account5X-UIDL: 00273d505d56454bX-Mozilla-Status: 0001X-Mozilla-Status2: 00000000X-Mozilla-Keys:                                                                                 Return-Path: <root@platino.ccc.uam.es>Received: from platino.ccc.uam.es (platino.ccc.uam.es [150.244.233.11])\\tby fluor.ccc.uam.es (8.14.7/8.14.7) with ESMTP id 06RN4Lv8023511\\tfor <root@fluor.ccc.uam.es>; Tue, 28 Jul 2020 01:04:21 +0200Received: from platino.ccc.uam.es (localhost.localdomain [127.0.0.1])\\tby platino.ccc.uam.es (8.14.4/8.14.4) with ESMTP id 06RN4LZW023811\\tfor <root@fluor.ccc.uam.es>; Tue, 28 Jul 2020 01:04:21 +0200Received: (from root@localhost)\\tby platino.ccc.uam.es (8.14.4/8.14.4/Submit) id 06RN4LSG023809\\tfor root@fluor.ccc.uam.es; Tue, 28 Jul 2020 01:04:21 +0200From: root <root@platino.ccc.uam.es>Message-Id: <202007272304.06RN4LSG023809@platino.ccc.uam.es>Date: Tue, 28 Jul 2020 01:04:20 +0200To: root@fluor.ccc.uam.esSubject: Salida sync CentOS vaultUser-Agent: Heirloom mailx 12.4 7/29/08MIME-Version: 1.0Content-Type: text/plain; charset=us-asciiContent-Transfer-Encoding: 8bitX-MIME-Autoconverted: from quoted-printable to 8bit by fluor.ccc.uam.es id 06RN4Lv8023511',\n",
       " ' Fri Jul 31 01:18:06 2020X-Account-Key: account5X-UIDL: 002773c15d56454bX-Mozilla-Status: 0001X-Mozilla-Status2: 00000000X-Mozilla-Keys:                                                                                 Return-Path: <admin@sai2.ccc.uam.es>Received: from cs141 (sai2.ccc.uam.es [150.244.232.248])\\tby fluor.ccc.uam.es (8.14.7/8.14.7) with ESMTP id 06UN4Ero025468\\tfor <root@fluor.ccc.uam.es>; Fri, 31 Jul 2020 01:04:14 +0200Message-Id: <202007302304.06UN4Ero025468@fluor.ccc.uam.es>Date: Fri, 31 Jul 2020 01:04:14 +0200From: admin@sai2.ccc.uam.esTo: root@fluor.ccc.uam.esSubject: CS141 HeartbeatMIME-Version: 1.0Content-Type: multipart/mixed; boundary=\"5f2351ee_4f1b74e0_383\"--5f2351ee_4f1b74e0_383Content-Type: text/plain; charset=\"utf-8\"Content-Transfer-Encoding: 7bitMAC-Address: 00-30-d6-14-15-10UPS-Model: DPAUPS-Location: Sala UPS. Cercana a la paredIP-Address: 150.244.232.248Actual-Event: CS141 Heartbeat--5f2351ee_4f1b74e0_383Content-Type: application/json; name=\"data.json\"Content-Transfer-Encoding: base64Content-Disposition: attachment; filename=\"data.json\"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--5f2351ee_4f1b74e0_383--',\n",
       " ' Fri Jul 31 01:30:19 2020X-Account-Key: account5X-UIDL: 0027744f5d56454bX-Mozilla-Status: 0001X-Mozilla-Status2: 00000000X-Mozilla-Keys:                                                                                 Return-Path: <root@depaz18.ccc.uam.es>Received: from depaz18.ccc.uam.es (depaz18.ccc.uam.es [150.244.233.164])\\tby fluor.ccc.uam.es (8.14.7/8.14.7) with ESMTP id 06UNU1EQ026967\\tfor <root@fluor.ccc.uam.es>; Fri, 31 Jul 2020 01:30:01 +0200Received: from depaz18.ccc.uam.es (localhost.localdomain [127.0.0.1])\\tby depaz18.ccc.uam.es (8.14.7/8.14.7) with ESMTP id 06UNU1fG008655\\tfor <root@depaz18.ccc.uam.es>; Fri, 31 Jul 2020 01:30:01 +0200Received: (from root@localhost)\\tby depaz18.ccc.uam.es (8.14.7/8.14.7/Submit) id 06UNU1ID008650;\\tFri, 31 Jul 2020 01:30:01 +0200Date: Fri, 31 Jul 2020 01:30:01 +0200Message-Id: <202007302330.06UNU1ID008650@depaz18.ccc.uam.es>From: \"(Cron Daemon)\" <root@depaz18.ccc.uam.es>To: root@depaz18.ccc.uam.esSubject: Cron <root@depaz18> /usr/local/seguridad/sysstat/estados.shContent-Type: text/plain; charset=UTF-8Auto-Submitted: auto-generatedPrecedence: bulkX-Cron-Env: <XDG_SESSION_ID=42442>X-Cron-Env: <XDG_RUNTIME_DIR=/run/user/0>X-Cron-Env: <LANG=es_ES.UTF-8>X-Cron-Env: <SHELL=/bin/sh>X-Cron-Env: <HOME=/root>X-Cron-Env: <PATH=/usr/bin:/bin>X-Cron-Env: <LOGNAME=root>X-Cron-Env: <USER=root>/bin/sh: /usr/local/seguridad/sysstat/estados.sh: No existe el fichero o el directorio']"
      ]
     },
     "execution_count": 6,
     "metadata": {},
     "output_type": "execute_result"
    }
   ],
   "source": [
    "with open(path, 'r') as file:\n",
    "    data = file.read().replace('\\n', '')\n",
    "\n",
    "data.split(\"From -\")"
   ]
  },
  {
   "cell_type": "code",
   "execution_count": null,
   "metadata": {},
   "outputs": [],
   "source": [
    "Ahora "
   ]
  },
  {
   "cell_type": "code",
   "execution_count": 5,
   "metadata": {},
   "outputs": [
    {
     "name": "stdout",
     "output_type": "stream",
     "text": [
      "From - Wed Jul 29 15:16:48 2020X-Account-Key: account5X-UIDL: 00273d505d56454bX-Mozilla-Status: 0001X-Mozilla-Status2: 00000000X-Mozilla-Keys:                                                                                 Return-Path: <root@platino.ccc.uam.es>Received: from platino.ccc.uam.es (platino.ccc.uam.es [150.244.233.11])\tby fluor.ccc.uam.es (8.14.7/8.14.7) with ESMTP id 06RN4Lv8023511\tfor <root@fluor.ccc.uam.es>; Tue, 28 Jul 2020 01:04:21 +0200Received: from platino.ccc.uam.es (localhost.localdomain [127.0.0.1])\tby platino.ccc.uam.es (8.14.4/8.14.4) with ESMTP id 06RN4LZW023811\tfor <root@fluor.ccc.uam.es>; Tue, 28 Jul 2020 01:04:21 +0200Received: (from root@localhost)\tby platino.ccc.uam.es (8.14.4/8.14.4/Submit) id 06RN4LSG023809\tfor root@fluor.ccc.uam.es; Tue, 28 Jul 2020 01:04:21 +0200From: root <root@platino.ccc.uam.es>Message-Id: <202007272304.06RN4LSG023809@platino.ccc.uam.es>Date: Tue, 28 Jul 2020 01:04:20 +0200To: root@fluor.ccc.uam.esSubject: Salida sync CentOS vaultUser-Agent: Heirloom mailx 12.4 7/29/08MIME-Version: 1.0Content-Type: text/plain; charset=us-asciiContent-Transfer-Encoding: 8bitX-MIME-Autoconverted: from quoted-printable to 8bit by fluor.ccc.uam.es id 06RN4Lv8023511From - Fri Jul 31 01:18:06 2020X-Account-Key: account5X-UIDL: 002773c15d56454bX-Mozilla-Status: 0001X-Mozilla-Status2: 00000000X-Mozilla-Keys:                                                                                 Return-Path: <admin@sai2.ccc.uam.es>Received: from cs141 (sai2.ccc.uam.es [150.244.232.248])\tby fluor.ccc.uam.es (8.14.7/8.14.7) with ESMTP id 06UN4Ero025468\tfor <root@fluor.ccc.uam.es>; Fri, 31 Jul 2020 01:04:14 +0200Message-Id: <202007302304.06UN4Ero025468@fluor.ccc.uam.es>Date: Fri, 31 Jul 2020 01:04:14 +0200From: admin@sai2.ccc.uam.esTo: root@fluor.ccc.uam.esSubject: CS141 HeartbeatMIME-Version: 1.0Content-Type: multipart/mixed; boundary=\"5f2351ee_4f1b74e0_383\"--5f2351ee_4f1b74e0_383Content-Type: text/plain; charset=\"utf-8\"Content-Transfer-Encoding: 7bitMAC-Address: 00-30-d6-14-15-10UPS-Model: DPAUPS-Location: Sala UPS. Cercana a la paredIP-Address: 150.244.232.248Actual-Event: CS141 Heartbeat--5f2351ee_4f1b74e0_383Content-Type: application/json; name=\"data.json\"Content-Transfer-Encoding: base64Content-Disposition: attachment; filename=\"data.json\"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--5f2351ee_4f1b74e0_383--From - Fri Jul 31 01:30:19 2020X-Account-Key: account5X-UIDL: 0027744f5d56454bX-Mozilla-Status: 0001X-Mozilla-Status2: 00000000X-Mozilla-Keys:                                                                                 Return-Path: <root@depaz18.ccc.uam.es>Received: from depaz18.ccc.uam.es (depaz18.ccc.uam.es [150.244.233.164])\tby fluor.ccc.uam.es (8.14.7/8.14.7) with ESMTP id 06UNU1EQ026967\tfor <root@fluor.ccc.uam.es>; Fri, 31 Jul 2020 01:30:01 +0200Received: from depaz18.ccc.uam.es (localhost.localdomain [127.0.0.1])\tby depaz18.ccc.uam.es (8.14.7/8.14.7) with ESMTP id 06UNU1fG008655\tfor <root@depaz18.ccc.uam.es>; Fri, 31 Jul 2020 01:30:01 +0200Received: (from root@localhost)\tby depaz18.ccc.uam.es (8.14.7/8.14.7/Submit) id 06UNU1ID008650;\tFri, 31 Jul 2020 01:30:01 +0200Date: Fri, 31 Jul 2020 01:30:01 +0200Message-Id: <202007302330.06UNU1ID008650@depaz18.ccc.uam.es>From: \"(Cron Daemon)\" <root@depaz18.ccc.uam.es>To: root@depaz18.ccc.uam.esSubject: Cron <root@depaz18> /usr/local/seguridad/sysstat/estados.shContent-Type: text/plain; charset=UTF-8Auto-Submitted: auto-generatedPrecedence: bulkX-Cron-Env: <XDG_SESSION_ID=42442>X-Cron-Env: <XDG_RUNTIME_DIR=/run/user/0>X-Cron-Env: <LANG=es_ES.UTF-8>X-Cron-Env: <SHELL=/bin/sh>X-Cron-Env: <HOME=/root>X-Cron-Env: <PATH=/usr/bin:/bin>X-Cron-Env: <LOGNAME=root>X-Cron-Env: <USER=root>/bin/sh: /usr/local/seguridad/sysstat/estados.sh: No existe el fichero o el directorio\n"
     ]
    }
   ],
   "source": [
    "print(data)"
   ]
  },
  {
   "cell_type": "code",
   "execution_count": null,
   "metadata": {},
   "outputs": [],
   "source": []
  }
 ],
 "metadata": {
  "kernelspec": {
   "display_name": "Python 3",
   "language": "python",
   "name": "python3"
  },
  "language_info": {
   "codemirror_mode": {
    "name": "ipython",
    "version": 3
   },
   "file_extension": ".py",
   "mimetype": "text/x-python",
   "name": "python",
   "nbconvert_exporter": "python",
   "pygments_lexer": "ipython3",
   "version": "3.8.3"
  }
 },
 "nbformat": 4,
 "nbformat_minor": 4
}
