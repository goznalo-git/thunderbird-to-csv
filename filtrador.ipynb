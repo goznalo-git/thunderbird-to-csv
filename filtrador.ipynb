{
 "cells": [
  {
   "cell_type": "markdown",
   "metadata": {},
   "source": [
    "# Clasificador de emails de Thunderbird a .csv\n",
    "\n",
    "## Objetivo\n",
    "Leer los mensajes diarios de `yum update` de las máquinas, y en base a eso crear una lista en un archivo .csv\n",
    "\n",
    "## Organización\n",
    "El programa va a tener dos partes claramente diferenciadas:\n",
    "1. Análisis de los mensajes\n",
    "2. Escritura del resultado en un archivo .csv\n",
    "\n",
    "Para más información, leer el README"
   ]
  },
  {
   "cell_type": "code",
   "execution_count": 1,
   "metadata": {},
   "outputs": [],
   "source": [
    "import os"
   ]
  },
  {
   "cell_type": "markdown",
   "metadata": {},
   "source": [
    "# 1. Análisis de los mensajes\n",
    "\n",
    "Los mensajes se encuentran en un archivo (que Thunderbird considera un directorio de mensajes) dentro de un directorio local creado y usado por Thunderbird."
   ]
  },
  {
   "cell_type": "code",
   "execution_count": 2,
   "metadata": {},
   "outputs": [],
   "source": [
    "directorio = \"/home/goznalo/.thunderbird/ceesvdh2.default/Mail/fluor.ccc.uam-1.es/\"\n",
    "archivo = \"prueba1\" #modificar con el archivo pertinente\n",
    "\n",
    "path = directorio + archivo"
   ]
  },
  {
   "cell_type": "code",
   "execution_count": 3,
   "metadata": {},
   "outputs": [
    {
     "name": "stdout",
     "output_type": "stream",
     "text": [
      "/home/goznalo/.thunderbird/ceesvdh2.default/Mail/fluor.ccc.uam-1.es/prueba1\n"
     ]
    }
   ],
   "source": [
    "print(path)"
   ]
  },
  {
   "cell_type": "markdown",
   "metadata": {},
   "source": [
    "Ahora abriremos el archivo, que contiene cada uno de los mensajes de esa carpeta, y los separaremos en elementos de una lista, para luego iterar sobre ellos. Para efectuar esta separación, hemos de darnos cuenta de que en cada archivo de mensajes del directorio, los mensajes empiezan con una línea como por ejemplo `From - Wed Jul 29 15:16:48 2020`. Por tanto usaremos como separador `From -`"
   ]
  },
  {
   "cell_type": "code",
   "execution_count": 6,
   "metadata": {},
   "outputs": [],
   "source": [
    "with open(path, 'r') as file:\n",
    "    messages = file.read().replace('\\n', '')\n",
    "\n",
    "messlist = messages.split(\"From -\")[1:]"
   ]
  },
  {
   "cell_type": "markdown",
   "metadata": {},
   "source": [
    "Ahora que tenemos los mensajes, hemos de obtener una lista con los remitentes de cada uno de ellos"
   ]
  },
  {
   "cell_type": "code",
   "execution_count": 23,
   "metadata": {},
   "outputs": [
    {
     "name": "stdout",
     "output_type": "stream",
     "text": [
      "['platino.ccc.uam.es', 'depaz18.ccc.uam.es']\n"
     ]
    }
   ],
   "source": [
    "senderlist = []\n",
    "for mess in messlist:\n",
    "    mess = mess.split(\"<root@\")[1]\n",
    "    senderlist.append(mess.split(\">Received:\")[0])\n",
    "print(senderlist)"
   ]
  },
  {
   "cell_type": "markdown",
   "metadata": {},
   "source": [
    "Ahora hemos de extraer el remitente de cada mensaje, que guardaremos en una lista"
   ]
  },
  {
   "cell_type": "code",
   "execution_count": 20,
   "metadata": {},
   "outputs": [
    {
     "data": {
      "text/plain": [
       "[' Wed Jul 29 15:16:48 2020X-Account-Key: account5X-UIDL: 00273d505d56454bX-Mozilla-Status: 0001X-Mozilla-Status2: 00000000X-Mozilla-Keys:                                                                                 Return-Path: <root@platino.ccc.uam.es>Received: from platino.ccc.uam.es (platino.ccc.uam.es [150.244.233.11])\\tby fluor.ccc.uam.es (8.14.7/8.14.7) with ESMTP id 06RN4Lv8023511\\tfor <root@fluor.ccc.uam.es>; Tue, 28 Jul 2020 01:04:21 +0200Received: from platino.ccc.uam.es (localhost.localdomain [127.0.0.1])\\tby platino.ccc.uam.es (8.14.4/8.14.4) with ESMTP id 06RN4LZW023811\\tfor <root@fluor.ccc.uam.es>; Tue, 28 Jul 2020 01:04:21 +0200Received: (from root@localhost)\\tby platino.ccc.uam.es (8.14.4/8.14.4/Submit) id 06RN4LSG023809\\tfor root@fluor.ccc.uam.es; Tue, 28 Jul 2020 01:04:21 +0200From: root <root@platino.ccc.uam.es>Message-Id: <202007272304.06RN4LSG023809@platino.ccc.uam.es>Date: Tue, 28 Jul 2020 01:04:20 +0200To: root@fluor.ccc.uam.esSubject: Salida sync CentOS vaultUser-Agent: Heirloom mailx 12.4 7/29/08MIME-Version: 1.0Content-Type: text/plain; charset=us-asciiContent-Transfer-Encoding: 8bitX-MIME-Autoconverted: from quoted-printable to 8bit by fluor.ccc.uam.es id 06RN4Lv8023511',\n",
       " ' Fri Jul 31 01:30:19 2020X-Account-Key: account5X-UIDL: 0027744f5d56454bX-Mozilla-Status: 0001X-Mozilla-Status2: 00000000X-Mozilla-Keys:                                                                                 Return-Path: <root@depaz18.ccc.uam.es>Received: from depaz18.ccc.uam.es (depaz18.ccc.uam.es [150.244.233.164])\\tby fluor.ccc.uam.es (8.14.7/8.14.7) with ESMTP id 06UNU1EQ026967\\tfor <root@fluor.ccc.uam.es>; Fri, 31 Jul 2020 01:30:01 +0200Received: from depaz18.ccc.uam.es (localhost.localdomain [127.0.0.1])\\tby depaz18.ccc.uam.es (8.14.7/8.14.7) with ESMTP id 06UNU1fG008655\\tfor <root@depaz18.ccc.uam.es>; Fri, 31 Jul 2020 01:30:01 +0200Received: (from root@localhost)\\tby depaz18.ccc.uam.es (8.14.7/8.14.7/Submit) id 06UNU1ID008650;\\tFri, 31 Jul 2020 01:30:01 +0200Date: Fri, 31 Jul 2020 01:30:01 +0200Message-Id: <202007302330.06UNU1ID008650@depaz18.ccc.uam.es>From: \"(Cron Daemon)\" <root@depaz18.ccc.uam.es>To: root@depaz18.ccc.uam.esSubject: Cron <root@depaz18> /usr/local/seguridad/sysstat/estados.shContent-Type: text/plain; charset=UTF-8Auto-Submitted: auto-generatedPrecedence: bulkX-Cron-Env: <XDG_SESSION_ID=42442>X-Cron-Env: <XDG_RUNTIME_DIR=/run/user/0>X-Cron-Env: <LANG=es_ES.UTF-8>X-Cron-Env: <SHELL=/bin/sh>X-Cron-Env: <HOME=/root>X-Cron-Env: <PATH=/usr/bin:/bin>X-Cron-Env: <LOGNAME=root>X-Cron-Env: <USER=root>/bin/sh: /usr/local/seguridad/sysstat/estados.sh: No existe el fichero o el directorio']"
      ]
     },
     "execution_count": 20,
     "metadata": {},
     "output_type": "execute_result"
    }
   ],
   "source": [
    "messlist    "
   ]
  },
  {
   "cell_type": "code",
   "execution_count": null,
   "metadata": {},
   "outputs": [],
   "source": []
  }
 ],
 "metadata": {
  "kernelspec": {
   "display_name": "Python 3",
   "language": "python",
   "name": "python3"
  },
  "language_info": {
   "codemirror_mode": {
    "name": "ipython",
    "version": 3
   },
   "file_extension": ".py",
   "mimetype": "text/x-python",
   "name": "python",
   "nbconvert_exporter": "python",
   "pygments_lexer": "ipython3",
   "version": "3.8.3"
  }
 },
 "nbformat": 4,
 "nbformat_minor": 4
}
